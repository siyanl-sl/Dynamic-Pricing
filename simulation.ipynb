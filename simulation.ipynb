{
 "cells": [
  {
   "cell_type": "code",
   "execution_count": 11,
   "id": "5ebc76ef",
   "metadata": {},
   "outputs": [],
   "source": [
    "import pandas as pd\n",
    "import numpy as np"
   ]
  },
  {
   "cell_type": "markdown",
   "id": "db3f57bd",
   "metadata": {},
   "source": [
    "# new"
   ]
  },
  {
   "cell_type": "code",
   "execution_count": 12,
   "id": "fa7e2d86",
   "metadata": {},
   "outputs": [],
   "source": [
    "def visit(season):\n",
    "    lst_season = [season] * 10\n",
    "    week = [1,2,3,4,5,6,7,8,9,10]\n",
    "    visitor1 = np.random.normal(1000, 250, 8)\n",
    "    visitor2 = np.random.normal(2000, 500, 2)\n",
    "    visitors = np.around(np.append(visitor1, visitor2))\n",
    "    #SKU_interest = np.around(visitors*1/50*1/3)\n",
    "    df_visit = pd.DataFrame({\n",
    "        'season': lst_season,\n",
    "        'week': week,\n",
    "        'visitor':visitors,\n",
    "        #'# SKU': SKU_interest\n",
    "    })\n",
    "    return df_visit"
   ]
  },
  {
   "cell_type": "code",
   "execution_count": 13,
   "id": "eeae9b78",
   "metadata": {},
   "outputs": [],
   "source": [
    "df_visits = pd.DataFrame(columns = ['season','week','visitor'])\n",
    "for season in range(1,2):\n",
    "    df_itr = visit(season)\n",
    "    df_visits = pd.concat([df_visits, df_itr], ignore_index = True)"
   ]
  },
  {
   "cell_type": "code",
   "execution_count": 14,
   "id": "43f6f969",
   "metadata": {},
   "outputs": [],
   "source": [
    "df4 = pd.DataFrame(columns = ['Season', 'Week', 'SKU', 'WTP', 'SC_A', 'SC_B', 'SC_C'])\n",
    "\n",
    "for idx in df_visits.index:\n",
    "    season = df_visits['season'][idx]\n",
    "    week = df_visits['week'][idx]\n",
    "    visitor = int(df_visits['visitor'][idx])\n",
    "    \n",
    "    random_visitor = np.random.rand(visitor)\n",
    "    lst_A_interest = list(map(lambda x: 1 if 0<=x<1/50*1/3 else 0 , random_visitor))\n",
    "    lst_B_interest = list(map(lambda x: 1 if 1/50*1/3<=x<1/50*2/3 else 0 , random_visitor))\n",
    "    lst_C_interest = list(map(lambda x: 1 if 1/50*2/3<=x<1/50 else 0 , random_visitor))\n",
    "    \n",
    "    num_A_interest = sum(lst_A_interest)\n",
    "    num_B_interest = sum(lst_B_interest)\n",
    "    num_C_interest = sum(lst_C_interest)\n",
    "    total_interest = num_A_interest+num_B_interest+num_C_interest\n",
    "    \n",
    "    SKU_A = ['A']*num_A_interest\n",
    "    SKU_B = ['B']*num_B_interest\n",
    "    SKU_C = ['C']*num_C_interest\n",
    "    \n",
    "    random_A = np.random.rand(num_A_interest)\n",
    "    random_B = np.random.rand(num_B_interest)\n",
    "    random_C = np.random.rand(num_C_interest)\n",
    "    lst_A_A = list(np.zeros(num_A_interest))\n",
    "    lst_A_B = list(map(lambda x: 1 if 0<=x<0.3 else 0, random_A))\n",
    "    lst_A_C = list(map(lambda x: 1 if 0.3<=x<0.4 else 0, random_A))\n",
    "    lst_B_A = list(map(lambda x: 1 if 0<=x<0.1 else 0, random_B))\n",
    "    lst_B_B = list(np.zeros(num_B_interest))\n",
    "    lst_B_C = list(map(lambda x: 1 if 0.1<=x<0.4 else 0, random_B))\n",
    "    lst_C_A = list(np.zeros(num_C_interest))\n",
    "    lst_C_B = list(map(lambda x: 1 if 0<=x<0.1 else 0, random_C))\n",
    "    lst_C_C = list(np.zeros(num_C_interest))\n",
    "    \n",
    "    lst_season = [season] * total_interest\n",
    "    lst_week = [week]*total_interest\n",
    "    lst_SKU = SKU_A + SKU_B + SKU_C\n",
    "    if 1<= week <= 6:\n",
    "        lst_WTP = np.round(list(np.random.uniform(0, 1000, total_interest)))\n",
    "    if 7<= week <= 10:\n",
    "        lst_WTP = np.round(list(np.random.uniform(0, 600, total_interest)))\n",
    "    SC_A = lst_A_A + lst_B_A + lst_C_A\n",
    "    SC_B = lst_A_B + lst_B_B + lst_C_B\n",
    "    SC_C = lst_A_C + lst_B_C + lst_C_C\n",
    "    \n",
    "    df_week = pd.DataFrame(\n",
    "    {\n",
    "        'Season': lst_season,\n",
    "        'Week': lst_week,\n",
    "        'SKU': lst_SKU,\n",
    "        'WTP': lst_WTP,\n",
    "        'SC_A': SC_A,\n",
    "        'SC_B': SC_B,\n",
    "        'SC_C': SC_C\n",
    "    })\n",
    "\n",
    "    df4 = pd.concat([df4, df_week], ignore_index=True)"
   ]
  },
  {
   "cell_type": "code",
   "execution_count": null,
   "id": "450b9181",
   "metadata": {},
   "outputs": [],
   "source": []
  }
 ],
 "metadata": {
  "kernelspec": {
   "display_name": "Python 3",
   "language": "python",
   "name": "python3"
  },
  "language_info": {
   "codemirror_mode": {
    "name": "ipython",
    "version": 3
   },
   "file_extension": ".py",
   "mimetype": "text/x-python",
   "name": "python",
   "nbconvert_exporter": "python",
   "pygments_lexer": "ipython3",
   "version": "3.8.8"
  }
 },
 "nbformat": 4,
 "nbformat_minor": 5
}
